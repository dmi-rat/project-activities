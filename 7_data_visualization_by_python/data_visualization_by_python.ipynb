{
 "cells": [
  {
   "cell_type": "markdown",
   "id": "0d683e69",
   "metadata": {},
   "source": [
    "# Практическая работа по визуализации данных средствами Python"
   ]
  },
  {
   "cell_type": "markdown",
   "id": "3d426032",
   "metadata": {},
   "source": [
    "## Цели практической работы"
   ]
  },
  {
   "cell_type": "markdown",
   "id": "264e004c",
   "metadata": {},
   "source": [
    "- выбрать подходящую библиотеку для решения задачи визуализации.\n",
    "- сделать визуализацию данных средствами Python.\n",
    "- Продемонстрировать сильные стороны визуализации для тестирования гипотез, описания результатов и поиска инсайтов."
   ]
  },
  {
   "cell_type": "markdown",
   "id": "e1033a80",
   "metadata": {},
   "source": [
    "## Что нужно сделать"
   ]
  },
  {
   "cell_type": "markdown",
   "id": "0a46b0e0",
   "metadata": {},
   "source": [
    "Визуализация данных — полезный инструмент не только для аналитика, но и для заказчика. Поэтому в этом задании вы построите визуализации, которые помогут сформулировать дальнейшие гипотезы, а также продемонстрировать заказчику результаты вашего анализа."
   ]
  },
  {
   "cell_type": "markdown",
   "id": "4ef0aa58",
   "metadata": {},
   "source": [
    "1. Воспользуйтесь таблицей с фродовыми данными, которую вы сохранили в одном из предыдущих модулей. Постройте гистограмму распределения количества этапов воронки, которые были скомпрометированы. Попробуйте объяснить, руководствуясь здравым смыслом, почему именно эти этапы оказались легко атакованы.\n",
    "2. Постройте воронки продаж по всем каналам коммуникации с клиентом. Сделайте предварительные выводы, какой канал коммуникации кажется вам менее перспективным.\n",
    "3. Постройте графики затрат для каждого рекламного канала и прибыли по ним на последнем этапе воронки. Подумайте, как удачнее расположить получившиеся графики.\n",
    "4. Постройте график распределения операционной системы пользователя для каждого канала коммуникации. Какие выводы можно сделать?"
   ]
  },
  {
   "cell_type": "code",
   "execution_count": 206,
   "id": "99ead621",
   "metadata": {},
   "outputs": [],
   "source": [
    "# Загружаем необходимые для работы библиотеки\n",
    "import pandas as pd\n",
    "import numpy as np\n",
    "import matplotlib.pyplot as plt\n",
    "import scipy.stats as st\n",
    "import seaborn as sns\n",
    "import sklearn\n",
    "from sklearn.preprocessing import StandardScaler"
   ]
  },
  {
   "cell_type": "code",
   "execution_count": 205,
   "id": "7c7a3d71",
   "metadata": {},
   "outputs": [
    {
     "name": "stdout",
     "output_type": "stream",
     "text": [
      "Requirement already satisfied: matplotlib in c:\\users\\1\\anaconda3\\lib\\site-packages (3.7.1)\n",
      "Requirement already satisfied: contourpy>=1.0.1 in c:\\users\\1\\anaconda3\\lib\\site-packages (from matplotlib) (1.0.5)\n",
      "Requirement already satisfied: cycler>=0.10 in c:\\users\\1\\anaconda3\\lib\\site-packages (from matplotlib) (0.11.0)\n",
      "Requirement already satisfied: fonttools>=4.22.0 in c:\\users\\1\\anaconda3\\lib\\site-packages (from matplotlib) (4.25.0)\n",
      "Requirement already satisfied: kiwisolver>=1.0.1 in c:\\users\\1\\anaconda3\\lib\\site-packages (from matplotlib) (1.4.4)\n",
      "Requirement already satisfied: numpy>=1.20 in c:\\users\\1\\anaconda3\\lib\\site-packages (from matplotlib) (1.24.3)\n",
      "Requirement already satisfied: packaging>=20.0 in c:\\users\\1\\anaconda3\\lib\\site-packages (from matplotlib) (23.0)\n",
      "Requirement already satisfied: pillow>=6.2.0 in c:\\users\\1\\anaconda3\\lib\\site-packages (from matplotlib) (9.4.0)\n",
      "Requirement already satisfied: pyparsing>=2.3.1 in c:\\users\\1\\anaconda3\\lib\\site-packages (from matplotlib) (3.0.9)\n",
      "Requirement already satisfied: python-dateutil>=2.7 in c:\\users\\1\\anaconda3\\lib\\site-packages (from matplotlib) (2.8.2)\n",
      "Requirement already satisfied: six>=1.5 in c:\\users\\1\\anaconda3\\lib\\site-packages (from python-dateutil>=2.7->matplotlib) (1.16.0)\n"
     ]
    }
   ],
   "source": [
    "!pip install matplotlib"
   ]
  },
  {
   "cell_type": "code",
   "execution_count": 208,
   "id": "2c4bdde3",
   "metadata": {},
   "outputs": [],
   "source": [
    "import plotly.graph_objs as go"
   ]
  },
  {
   "cell_type": "markdown",
   "id": "c9ed5fb5",
   "metadata": {},
   "source": [
    "### 1. Работа с таблицей с фродовыми значениями"
   ]
  },
  {
   "cell_type": "code",
   "execution_count": 95,
   "id": "9ba2641e",
   "metadata": {},
   "outputs": [
    {
     "data": {
      "text/html": [
       "<div>\n",
       "<style scoped>\n",
       "    .dataframe tbody tr th:only-of-type {\n",
       "        vertical-align: middle;\n",
       "    }\n",
       "\n",
       "    .dataframe tbody tr th {\n",
       "        vertical-align: top;\n",
       "    }\n",
       "\n",
       "    .dataframe thead th {\n",
       "        text-align: right;\n",
       "    }\n",
       "</style>\n",
       "<table border=\"1\" class=\"dataframe\">\n",
       "  <thead>\n",
       "    <tr style=\"text-align: right;\">\n",
       "      <th></th>\n",
       "      <th>ad_channel</th>\n",
       "      <th>user_id</th>\n",
       "      <th>funnel_stage</th>\n",
       "      <th>timestamp</th>\n",
       "      <th>profit</th>\n",
       "      <th>os</th>\n",
       "      <th>price</th>\n",
       "      <th>count</th>\n",
       "    </tr>\n",
       "  </thead>\n",
       "  <tbody>\n",
       "    <tr>\n",
       "      <th>0</th>\n",
       "      <td>video</td>\n",
       "      <td>856262</td>\n",
       "      <td>interest</td>\n",
       "      <td>150036</td>\n",
       "      <td>NaN</td>\n",
       "      <td>iOS</td>\n",
       "      <td>0.75</td>\n",
       "      <td>585</td>\n",
       "    </tr>\n",
       "    <tr>\n",
       "      <th>1</th>\n",
       "      <td>video</td>\n",
       "      <td>856262</td>\n",
       "      <td>interest</td>\n",
       "      <td>150036</td>\n",
       "      <td>NaN</td>\n",
       "      <td>Android</td>\n",
       "      <td>0.75</td>\n",
       "      <td>585</td>\n",
       "    </tr>\n",
       "    <tr>\n",
       "      <th>2</th>\n",
       "      <td>video</td>\n",
       "      <td>856262</td>\n",
       "      <td>interest</td>\n",
       "      <td>150036</td>\n",
       "      <td>NaN</td>\n",
       "      <td>Android</td>\n",
       "      <td>0.75</td>\n",
       "      <td>585</td>\n",
       "    </tr>\n",
       "    <tr>\n",
       "      <th>3</th>\n",
       "      <td>video</td>\n",
       "      <td>856262</td>\n",
       "      <td>interest</td>\n",
       "      <td>150036</td>\n",
       "      <td>NaN</td>\n",
       "      <td>Android</td>\n",
       "      <td>0.75</td>\n",
       "      <td>585</td>\n",
       "    </tr>\n",
       "    <tr>\n",
       "      <th>4</th>\n",
       "      <td>video</td>\n",
       "      <td>856262</td>\n",
       "      <td>interest</td>\n",
       "      <td>150036</td>\n",
       "      <td>NaN</td>\n",
       "      <td>Android</td>\n",
       "      <td>0.75</td>\n",
       "      <td>585</td>\n",
       "    </tr>\n",
       "  </tbody>\n",
       "</table>\n",
       "</div>"
      ],
      "text/plain": [
       "  ad_channel  user_id funnel_stage  timestamp  profit       os  price  count\n",
       "0      video   856262     interest     150036     NaN      iOS   0.75    585\n",
       "1      video   856262     interest     150036     NaN  Android   0.75    585\n",
       "2      video   856262     interest     150036     NaN  Android   0.75    585\n",
       "3      video   856262     interest     150036     NaN  Android   0.75    585\n",
       "4      video   856262     interest     150036     NaN  Android   0.75    585"
      ]
     },
     "execution_count": 95,
     "metadata": {},
     "output_type": "execute_result"
    }
   ],
   "source": [
    "# Считываем данные в датафрейм\n",
    "df_500 = pd.read_csv('df_500.csv')\n",
    "df_500.head()"
   ]
  },
  {
   "cell_type": "code",
   "execution_count": 80,
   "id": "09142a95",
   "metadata": {},
   "outputs": [
    {
     "data": {
      "text/plain": [
       "Text(0, 0.5, 'Частота')"
      ]
     },
     "execution_count": 80,
     "metadata": {},
     "output_type": "execute_result"
    },
    {
     "data": {
      "image/png": "[encoded data removed]",
      "text/plain": [
       "<Figure size 500x400 with 1 Axes>"
      ]
     },
     "metadata": {},
     "output_type": "display_data"
    }
   ],
   "source": [
    "# Построем гистограмму распределения количества этапов воронки, которые были скомпрометированы\n",
    "# Задаем размер графика\n",
    "plt.figure(figsize=(5,4))\n",
    "# Построение гистограммы\n",
    "plt.hist(df_500['funnel_stage'], bins=4)\n",
    "# Заголовок\n",
    "plt.title('Распределение этапов воронки')\n",
    "# Название оси Х\n",
    "plt.xlabel('Этапы воронок')\n",
    "# Название оси Y\n",
    "plt.ylabel('Частота')"
   ]
  },
  {
   "cell_type": "markdown",
   "id": "8ccc6f0c",
   "metadata": {},
   "source": [
    "### 1.1 Попробуйте объяснить, руководствуясь здравым смыслом, почему именно эти этапы оказались легко атакованы"
   ]
  },
  {
   "cell_type": "code",
   "execution_count": null,
   "id": "4405efdd",
   "metadata": {},
   "outputs": [],
   "source": [
    "# Скомпромитирован в первую очередь был именно начальный этап воронки, а именно то действие, которое могла выполнить бот-программа "
   ]
  },
  {
   "cell_type": "markdown",
   "id": "e5a8f7f6",
   "metadata": {},
   "source": [
    "### 2. Построение воронки продаж по всем каналам коммуникации с клиентом"
   ]
  },
  {
   "cell_type": "code",
   "execution_count": 106,
   "id": "64dcd400",
   "metadata": {},
   "outputs": [
    {
     "data": {
      "text/html": [
       "<div>\n",
       "<style scoped>\n",
       "    .dataframe tbody tr th:only-of-type {\n",
       "        vertical-align: middle;\n",
       "    }\n",
       "\n",
       "    .dataframe tbody tr th {\n",
       "        vertical-align: top;\n",
       "    }\n",
       "\n",
       "    .dataframe thead th {\n",
       "        text-align: right;\n",
       "    }\n",
       "</style>\n",
       "<table border=\"1\" class=\"dataframe\">\n",
       "  <thead>\n",
       "    <tr style=\"text-align: right;\">\n",
       "      <th></th>\n",
       "      <th>ad_channel</th>\n",
       "      <th>user_id</th>\n",
       "      <th>funnel_stage</th>\n",
       "      <th>timestamp</th>\n",
       "      <th>profit</th>\n",
       "      <th>os</th>\n",
       "      <th>price</th>\n",
       "      <th>count</th>\n",
       "    </tr>\n",
       "  </thead>\n",
       "  <tbody>\n",
       "    <tr>\n",
       "      <th>0</th>\n",
       "      <td>video</td>\n",
       "      <td>512217</td>\n",
       "      <td>interest</td>\n",
       "      <td>150000</td>\n",
       "      <td>NaN</td>\n",
       "      <td>iOS</td>\n",
       "      <td>0.75</td>\n",
       "      <td>1</td>\n",
       "    </tr>\n",
       "    <tr>\n",
       "      <th>1</th>\n",
       "      <td>video</td>\n",
       "      <td>833649</td>\n",
       "      <td>interest</td>\n",
       "      <td>150000</td>\n",
       "      <td>NaN</td>\n",
       "      <td>Android</td>\n",
       "      <td>0.75</td>\n",
       "      <td>1</td>\n",
       "    </tr>\n",
       "    <tr>\n",
       "      <th>2</th>\n",
       "      <td>video</td>\n",
       "      <td>327813</td>\n",
       "      <td>interest</td>\n",
       "      <td>150002</td>\n",
       "      <td>NaN</td>\n",
       "      <td>Android</td>\n",
       "      <td>0.75</td>\n",
       "      <td>1</td>\n",
       "    </tr>\n",
       "    <tr>\n",
       "      <th>3</th>\n",
       "      <td>video</td>\n",
       "      <td>241345</td>\n",
       "      <td>interest</td>\n",
       "      <td>150004</td>\n",
       "      <td>NaN</td>\n",
       "      <td>iOS</td>\n",
       "      <td>0.75</td>\n",
       "      <td>1</td>\n",
       "    </tr>\n",
       "    <tr>\n",
       "      <th>4</th>\n",
       "      <td>video</td>\n",
       "      <td>212554</td>\n",
       "      <td>interest</td>\n",
       "      <td>150004</td>\n",
       "      <td>NaN</td>\n",
       "      <td>Android</td>\n",
       "      <td>0.75</td>\n",
       "      <td>1</td>\n",
       "    </tr>\n",
       "  </tbody>\n",
       "</table>\n",
       "</div>"
      ],
      "text/plain": [
       "  ad_channel  user_id funnel_stage  timestamp  profit       os  price  count\n",
       "0      video   512217     interest     150000     NaN      iOS   0.75      1\n",
       "1      video   833649     interest     150000     NaN  Android   0.75      1\n",
       "2      video   327813     interest     150002     NaN  Android   0.75      1\n",
       "3      video   241345     interest     150004     NaN      iOS   0.75      1\n",
       "4      video   212554     interest     150004     NaN  Android   0.75      1"
      ]
     },
     "execution_count": 106,
     "metadata": {},
     "output_type": "execute_result"
    }
   ],
   "source": [
    "# Считываем данные в датафрейм\n",
    "df = pd.read_csv('8.6_homework.csv')\n",
    "df.head()"
   ]
  },
  {
   "cell_type": "code",
   "execution_count": 107,
   "id": "a59b2762",
   "metadata": {},
   "outputs": [
    {
     "data": {
      "text/html": [
       "<div>\n",
       "<style scoped>\n",
       "    .dataframe tbody tr th:only-of-type {\n",
       "        vertical-align: middle;\n",
       "    }\n",
       "\n",
       "    .dataframe tbody tr th {\n",
       "        vertical-align: top;\n",
       "    }\n",
       "\n",
       "    .dataframe thead th {\n",
       "        text-align: right;\n",
       "    }\n",
       "</style>\n",
       "<table border=\"1\" class=\"dataframe\">\n",
       "  <thead>\n",
       "    <tr style=\"text-align: right;\">\n",
       "      <th>funnel_stage</th>\n",
       "      <th>consideration</th>\n",
       "      <th>intent</th>\n",
       "      <th>interest</th>\n",
       "      <th>purchase</th>\n",
       "    </tr>\n",
       "    <tr>\n",
       "      <th>ad_channel</th>\n",
       "      <th></th>\n",
       "      <th></th>\n",
       "      <th></th>\n",
       "      <th></th>\n",
       "    </tr>\n",
       "  </thead>\n",
       "  <tbody>\n",
       "    <tr>\n",
       "      <th>banner</th>\n",
       "      <td>47454</td>\n",
       "      <td>7549</td>\n",
       "      <td>91555</td>\n",
       "      <td>690</td>\n",
       "    </tr>\n",
       "    <tr>\n",
       "      <th>native</th>\n",
       "      <td>12585</td>\n",
       "      <td>905</td>\n",
       "      <td>19211</td>\n",
       "      <td>36</td>\n",
       "    </tr>\n",
       "    <tr>\n",
       "      <th>organic_traffic</th>\n",
       "      <td>53618</td>\n",
       "      <td>9079</td>\n",
       "      <td>78480</td>\n",
       "      <td>540</td>\n",
       "    </tr>\n",
       "    <tr>\n",
       "      <th>partner_network</th>\n",
       "      <td>24737</td>\n",
       "      <td>4385</td>\n",
       "      <td>67603</td>\n",
       "      <td>453</td>\n",
       "    </tr>\n",
       "    <tr>\n",
       "      <th>rich</th>\n",
       "      <td>4658</td>\n",
       "      <td>1222</td>\n",
       "      <td>8833</td>\n",
       "      <td>21</td>\n",
       "    </tr>\n",
       "    <tr>\n",
       "      <th>search</th>\n",
       "      <td>134305</td>\n",
       "      <td>27980</td>\n",
       "      <td>227162</td>\n",
       "      <td>3090</td>\n",
       "    </tr>\n",
       "    <tr>\n",
       "      <th>video</th>\n",
       "      <td>60876</td>\n",
       "      <td>58</td>\n",
       "      <td>98509</td>\n",
       "      <td>5</td>\n",
       "    </tr>\n",
       "  </tbody>\n",
       "</table>\n",
       "</div>"
      ],
      "text/plain": [
       "funnel_stage     consideration  intent  interest  purchase\n",
       "ad_channel                                                \n",
       "banner                   47454    7549     91555       690\n",
       "native                   12585     905     19211        36\n",
       "organic_traffic          53618    9079     78480       540\n",
       "partner_network          24737    4385     67603       453\n",
       "rich                      4658    1222      8833        21\n",
       "search                  134305   27980    227162      3090\n",
       "video                    60876      58     98509         5"
      ]
     },
     "execution_count": 107,
     "metadata": {},
     "output_type": "execute_result"
    }
   ],
   "source": [
    "# Оставляем в таблице только нужные параметры и сохраняем в новый датафрейм\n",
    "df_data = pd.crosstab(df['ad_channel'], df['funnel_stage'])\n",
    "df_data"
   ]
  },
  {
   "cell_type": "code",
   "execution_count": 124,
   "id": "3134d2f1",
   "metadata": {},
   "outputs": [
    {
     "data": {
      "image/png": "[encoded data removed]",
      "text/plain": [
       "<Figure size 1200x600 with 1 Axes>"
      ]
     },
     "metadata": {},
     "output_type": "display_data"
    }
   ],
   "source": [
    "# Построем гистограмму с отражением воронки продаж по всем каналам коммуникации с клиентом\n",
    "# Данные в переменные\n",
    "ad_channel = df_data.ad_channel\n",
    "consideration = df_data.consideration\n",
    "intent = df_data.intent\n",
    "interest = df_data.interest\n",
    "purchase = df_data.purchase\n",
    "\n",
    "# Настройка параметров графика\n",
    "bar_width = 0.2\n",
    "index = np.arange(len(ad_channel))\n",
    "\n",
    "# Создание объекта графика и осей\n",
    "fig, ax = plt.subplots(figsize=(12,6))\n",
    "\n",
    "# Нарисовать столбцы\n",
    "ax.bar(index, consideration, bar_width,\n",
    "      color = 'blue', alpha = 0.6,\n",
    "      label = 'Consideration')\n",
    "ax.bar(index + bar_width, intent, bar_width,\n",
    "       color = 'green', alpha = 0.6,\n",
    "       label = 'Intent')\n",
    "ax.bar(index + 2 * bar_width, interest, bar_width,\n",
    "       color = 'red', alpha = 0.6,\n",
    "       label = 'Interest')\n",
    "ax.bar(index + 3 * bar_width, purchase, bar_width,\n",
    "      color = 'purple', alpha = 0.6,\n",
    "      label = 'Purchase')\n",
    "\n",
    "# Настройка осей и заголовка\n",
    "ax.set_xlabel('Каналы продаж')\n",
    "ax.set_ylabel('Кол-во клиентов')\n",
    "ax.set_title('Воронка клиентов')\n",
    "\n",
    "# Указываем место для подписей\n",
    "ax.set_xticks(index + bar_width)\n",
    "\n",
    "# Указываем название подписей\n",
    "ax.set_xticklabels(ad_channel)\n",
    "\n",
    "# Поворачиваем подпись на осях\n",
    "ax.tick_params(axis = 'x', labelrotation = 30)\n",
    "\n",
    "# Легенда\n",
    "ax.legend(loc = (1.02, 0.85))\n",
    "\n",
    "# Отображение графика\n",
    "plt.show()"
   ]
  },
  {
   "cell_type": "code",
   "execution_count": null,
   "id": "d3e9fc6a",
   "metadata": {},
   "outputs": [],
   "source": [
    "# Предварительные выводы:\n",
    "# Самый большой канал с входящим потоком клиентов (этап воронки \"Интерес\") - search\n",
    "# Самый незначительный канал с входящим потоком клиентов (этап воронки \"Интерес\") - rich\n",
    "# Самый большой канал с рассмотрением к покупке (выбор планов подписки, хождение по продуктовым страницам) - search\n",
    "# Самый незначительный канал с рассмотрением к покупке (выбор планов подписки, хождение по продуктовым страницам) - rich\n",
    "# Самый большой канал с намерением купить (выбор плана, заявка на обратную связь, регистрация) - search\n",
    "# Самый незначительный канал с намерением купить (выбор плана, заявка на обратную связь, регистрация) - rich\n",
    "# Из вышеуказанного можно сделать вывод, что самым эффективным каналом является search, а самым менеэффективным rich"
   ]
  },
  {
   "cell_type": "markdown",
   "id": "b3123a61",
   "metadata": {},
   "source": [
    "### 3. Графики затрат для каждого рекламного канала и прибыли по ним на последнем этапе воронки"
   ]
  },
  {
   "cell_type": "code",
   "execution_count": 134,
   "id": "e84f6970",
   "metadata": {},
   "outputs": [
    {
     "data": {
      "text/html": [
       "<div>\n",
       "<style scoped>\n",
       "    .dataframe tbody tr th:only-of-type {\n",
       "        vertical-align: middle;\n",
       "    }\n",
       "\n",
       "    .dataframe tbody tr th {\n",
       "        vertical-align: top;\n",
       "    }\n",
       "\n",
       "    .dataframe thead th {\n",
       "        text-align: right;\n",
       "    }\n",
       "</style>\n",
       "<table border=\"1\" class=\"dataframe\">\n",
       "  <thead>\n",
       "    <tr style=\"text-align: right;\">\n",
       "      <th></th>\n",
       "      <th>ad_channel</th>\n",
       "      <th>user_id</th>\n",
       "      <th>funnel_stage</th>\n",
       "      <th>timestamp</th>\n",
       "      <th>profit</th>\n",
       "      <th>os</th>\n",
       "      <th>price</th>\n",
       "      <th>count</th>\n",
       "    </tr>\n",
       "  </thead>\n",
       "  <tbody>\n",
       "    <tr>\n",
       "      <th>0</th>\n",
       "      <td>video</td>\n",
       "      <td>512217</td>\n",
       "      <td>interest</td>\n",
       "      <td>150000</td>\n",
       "      <td>NaN</td>\n",
       "      <td>iOS</td>\n",
       "      <td>0.75</td>\n",
       "      <td>1</td>\n",
       "    </tr>\n",
       "    <tr>\n",
       "      <th>1</th>\n",
       "      <td>video</td>\n",
       "      <td>833649</td>\n",
       "      <td>interest</td>\n",
       "      <td>150000</td>\n",
       "      <td>NaN</td>\n",
       "      <td>Android</td>\n",
       "      <td>0.75</td>\n",
       "      <td>1</td>\n",
       "    </tr>\n",
       "    <tr>\n",
       "      <th>2</th>\n",
       "      <td>video</td>\n",
       "      <td>327813</td>\n",
       "      <td>interest</td>\n",
       "      <td>150002</td>\n",
       "      <td>NaN</td>\n",
       "      <td>Android</td>\n",
       "      <td>0.75</td>\n",
       "      <td>1</td>\n",
       "    </tr>\n",
       "    <tr>\n",
       "      <th>3</th>\n",
       "      <td>video</td>\n",
       "      <td>241345</td>\n",
       "      <td>interest</td>\n",
       "      <td>150004</td>\n",
       "      <td>NaN</td>\n",
       "      <td>iOS</td>\n",
       "      <td>0.75</td>\n",
       "      <td>1</td>\n",
       "    </tr>\n",
       "    <tr>\n",
       "      <th>4</th>\n",
       "      <td>video</td>\n",
       "      <td>212554</td>\n",
       "      <td>interest</td>\n",
       "      <td>150004</td>\n",
       "      <td>NaN</td>\n",
       "      <td>Android</td>\n",
       "      <td>0.75</td>\n",
       "      <td>1</td>\n",
       "    </tr>\n",
       "  </tbody>\n",
       "</table>\n",
       "</div>"
      ],
      "text/plain": [
       "  ad_channel  user_id funnel_stage  timestamp  profit       os  price  count\n",
       "0      video   512217     interest     150000     NaN      iOS   0.75      1\n",
       "1      video   833649     interest     150000     NaN  Android   0.75      1\n",
       "2      video   327813     interest     150002     NaN  Android   0.75      1\n",
       "3      video   241345     interest     150004     NaN      iOS   0.75      1\n",
       "4      video   212554     interest     150004     NaN  Android   0.75      1"
      ]
     },
     "execution_count": 134,
     "metadata": {},
     "output_type": "execute_result"
    }
   ],
   "source": [
    "# считываем данные в новый датафрейм\n",
    "df2 = pd.read_csv('8.6_homework.csv')\n",
    "df2.head()"
   ]
  },
  {
   "cell_type": "code",
   "execution_count": 135,
   "id": "d28892c1",
   "metadata": {},
   "outputs": [
    {
     "data": {
      "text/html": [
       "<div>\n",
       "<style scoped>\n",
       "    .dataframe tbody tr th:only-of-type {\n",
       "        vertical-align: middle;\n",
       "    }\n",
       "\n",
       "    .dataframe tbody tr th {\n",
       "        vertical-align: top;\n",
       "    }\n",
       "\n",
       "    .dataframe thead th {\n",
       "        text-align: right;\n",
       "    }\n",
       "</style>\n",
       "<table border=\"1\" class=\"dataframe\">\n",
       "  <thead>\n",
       "    <tr style=\"text-align: right;\">\n",
       "      <th></th>\n",
       "      <th>ad_channel</th>\n",
       "      <th>funnel_stage</th>\n",
       "      <th>profit</th>\n",
       "      <th>price</th>\n",
       "    </tr>\n",
       "  </thead>\n",
       "  <tbody>\n",
       "    <tr>\n",
       "      <th>0</th>\n",
       "      <td>video</td>\n",
       "      <td>interest</td>\n",
       "      <td>NaN</td>\n",
       "      <td>0.75</td>\n",
       "    </tr>\n",
       "    <tr>\n",
       "      <th>1</th>\n",
       "      <td>video</td>\n",
       "      <td>interest</td>\n",
       "      <td>NaN</td>\n",
       "      <td>0.75</td>\n",
       "    </tr>\n",
       "    <tr>\n",
       "      <th>2</th>\n",
       "      <td>video</td>\n",
       "      <td>interest</td>\n",
       "      <td>NaN</td>\n",
       "      <td>0.75</td>\n",
       "    </tr>\n",
       "    <tr>\n",
       "      <th>3</th>\n",
       "      <td>video</td>\n",
       "      <td>interest</td>\n",
       "      <td>NaN</td>\n",
       "      <td>0.75</td>\n",
       "    </tr>\n",
       "    <tr>\n",
       "      <th>4</th>\n",
       "      <td>video</td>\n",
       "      <td>interest</td>\n",
       "      <td>NaN</td>\n",
       "      <td>0.75</td>\n",
       "    </tr>\n",
       "  </tbody>\n",
       "</table>\n",
       "</div>"
      ],
      "text/plain": [
       "  ad_channel funnel_stage  profit  price\n",
       "0      video     interest     NaN   0.75\n",
       "1      video     interest     NaN   0.75\n",
       "2      video     interest     NaN   0.75\n",
       "3      video     interest     NaN   0.75\n",
       "4      video     interest     NaN   0.75"
      ]
     },
     "execution_count": 135,
     "metadata": {},
     "output_type": "execute_result"
    }
   ],
   "source": [
    "# Оставляем в таблице только нужные параметры\n",
    "df2.drop(['user_id','timestamp', 'os', 'count'], axis= 1 , inplace= True)\n",
    "df2.head()"
   ]
  },
  {
   "cell_type": "code",
   "execution_count": 137,
   "id": "24fa4aca",
   "metadata": {},
   "outputs": [
    {
     "data": {
      "text/html": [
       "<div>\n",
       "<style scoped>\n",
       "    .dataframe tbody tr th:only-of-type {\n",
       "        vertical-align: middle;\n",
       "    }\n",
       "\n",
       "    .dataframe tbody tr th {\n",
       "        vertical-align: top;\n",
       "    }\n",
       "\n",
       "    .dataframe thead th {\n",
       "        text-align: right;\n",
       "    }\n",
       "</style>\n",
       "<table border=\"1\" class=\"dataframe\">\n",
       "  <thead>\n",
       "    <tr style=\"text-align: right;\">\n",
       "      <th></th>\n",
       "      <th>ad_channel</th>\n",
       "      <th>funnel_stage</th>\n",
       "      <th>profit</th>\n",
       "      <th>price</th>\n",
       "    </tr>\n",
       "  </thead>\n",
       "  <tbody>\n",
       "    <tr>\n",
       "      <th>61050</th>\n",
       "      <td>video</td>\n",
       "      <td>purchase</td>\n",
       "      <td>50.0</td>\n",
       "      <td>0.75</td>\n",
       "    </tr>\n",
       "    <tr>\n",
       "      <th>64692</th>\n",
       "      <td>video</td>\n",
       "      <td>purchase</td>\n",
       "      <td>50.0</td>\n",
       "      <td>0.75</td>\n",
       "    </tr>\n",
       "    <tr>\n",
       "      <th>111968</th>\n",
       "      <td>video</td>\n",
       "      <td>purchase</td>\n",
       "      <td>260.0</td>\n",
       "      <td>0.75</td>\n",
       "    </tr>\n",
       "    <tr>\n",
       "      <th>121328</th>\n",
       "      <td>video</td>\n",
       "      <td>purchase</td>\n",
       "      <td>1099.0</td>\n",
       "      <td>0.75</td>\n",
       "    </tr>\n",
       "    <tr>\n",
       "      <th>144850</th>\n",
       "      <td>video</td>\n",
       "      <td>purchase</td>\n",
       "      <td>2136.0</td>\n",
       "      <td>0.75</td>\n",
       "    </tr>\n",
       "  </tbody>\n",
       "</table>\n",
       "</div>"
      ],
      "text/plain": [
       "       ad_channel funnel_stage  profit  price\n",
       "61050       video     purchase    50.0   0.75\n",
       "64692       video     purchase    50.0   0.75\n",
       "111968      video     purchase   260.0   0.75\n",
       "121328      video     purchase  1099.0   0.75\n",
       "144850      video     purchase  2136.0   0.75"
      ]
     },
     "execution_count": 137,
     "metadata": {},
     "output_type": "execute_result"
    }
   ],
   "source": [
    "# Производим сортировку в столбце funnel_stage по значению \"purchase\"\n",
    "df2[df2[\"funnel_stage\"] == \"purchase\"].head()"
   ]
  },
  {
   "cell_type": "code",
   "execution_count": 142,
   "id": "75bffdf1",
   "metadata": {},
   "outputs": [
    {
     "data": {
      "text/html": [
       "<div>\n",
       "<style scoped>\n",
       "    .dataframe tbody tr th:only-of-type {\n",
       "        vertical-align: middle;\n",
       "    }\n",
       "\n",
       "    .dataframe tbody tr th {\n",
       "        vertical-align: top;\n",
       "    }\n",
       "\n",
       "    .dataframe thead th {\n",
       "        text-align: right;\n",
       "    }\n",
       "</style>\n",
       "<table border=\"1\" class=\"dataframe\">\n",
       "  <thead>\n",
       "    <tr style=\"text-align: right;\">\n",
       "      <th></th>\n",
       "      <th>ad_channel</th>\n",
       "      <th>all_price</th>\n",
       "    </tr>\n",
       "  </thead>\n",
       "  <tbody>\n",
       "    <tr>\n",
       "      <th>0</th>\n",
       "      <td>banner</td>\n",
       "      <td>73624.0</td>\n",
       "    </tr>\n",
       "    <tr>\n",
       "      <th>1</th>\n",
       "      <td>native</td>\n",
       "      <td>65474.0</td>\n",
       "    </tr>\n",
       "    <tr>\n",
       "      <th>2</th>\n",
       "      <td>organic_traffic</td>\n",
       "      <td>0.0</td>\n",
       "    </tr>\n",
       "    <tr>\n",
       "      <th>3</th>\n",
       "      <td>partner_network</td>\n",
       "      <td>97178.0</td>\n",
       "    </tr>\n",
       "    <tr>\n",
       "      <th>4</th>\n",
       "      <td>rich</td>\n",
       "      <td>36835.0</td>\n",
       "    </tr>\n",
       "  </tbody>\n",
       "</table>\n",
       "</div>"
      ],
      "text/plain": [
       "        ad_channel  all_price\n",
       "0           banner    73624.0\n",
       "1           native    65474.0\n",
       "2  organic_traffic        0.0\n",
       "3  partner_network    97178.0\n",
       "4             rich    36835.0"
      ]
     },
     "execution_count": 142,
     "metadata": {},
     "output_type": "execute_result"
    }
   ],
   "source": [
    "# Групперуем столбец 'ad_channel' и высчитываем сумму по значению 'price'\n",
    "df_cost = df2.groupby('ad_channel', as_index = False).agg(all_price = ('price', 'sum'))\n",
    "df_cost.head()"
   ]
  },
  {
   "cell_type": "code",
   "execution_count": 141,
   "id": "c4e73691",
   "metadata": {},
   "outputs": [
    {
     "data": {
      "text/html": [
       "<div>\n",
       "<style scoped>\n",
       "    .dataframe tbody tr th:only-of-type {\n",
       "        vertical-align: middle;\n",
       "    }\n",
       "\n",
       "    .dataframe tbody tr th {\n",
       "        vertical-align: top;\n",
       "    }\n",
       "\n",
       "    .dataframe thead th {\n",
       "        text-align: right;\n",
       "    }\n",
       "</style>\n",
       "<table border=\"1\" class=\"dataframe\">\n",
       "  <thead>\n",
       "    <tr style=\"text-align: right;\">\n",
       "      <th></th>\n",
       "      <th>ad_channel</th>\n",
       "      <th>all_profit</th>\n",
       "    </tr>\n",
       "  </thead>\n",
       "  <tbody>\n",
       "    <tr>\n",
       "      <th>0</th>\n",
       "      <td>banner</td>\n",
       "      <td>467173.0</td>\n",
       "    </tr>\n",
       "    <tr>\n",
       "      <th>1</th>\n",
       "      <td>native</td>\n",
       "      <td>31665.0</td>\n",
       "    </tr>\n",
       "    <tr>\n",
       "      <th>2</th>\n",
       "      <td>organic_traffic</td>\n",
       "      <td>370283.0</td>\n",
       "    </tr>\n",
       "    <tr>\n",
       "      <th>3</th>\n",
       "      <td>partner_network</td>\n",
       "      <td>476881.0</td>\n",
       "    </tr>\n",
       "    <tr>\n",
       "      <th>4</th>\n",
       "      <td>rich</td>\n",
       "      <td>29301.0</td>\n",
       "    </tr>\n",
       "  </tbody>\n",
       "</table>\n",
       "</div>"
      ],
      "text/plain": [
       "        ad_channel  all_profit\n",
       "0           banner    467173.0\n",
       "1           native     31665.0\n",
       "2  organic_traffic    370283.0\n",
       "3  partner_network    476881.0\n",
       "4             rich     29301.0"
      ]
     },
     "execution_count": 141,
     "metadata": {},
     "output_type": "execute_result"
    }
   ],
   "source": [
    "# Групперуем столбец 'ad_channel' и высчитываем сумму по значению 'profit'\n",
    "df_income = df2.groupby('ad_channel', as_index = False).agg(all_profit = ('profit', 'sum'))\n",
    "df_income.head()"
   ]
  },
  {
   "cell_type": "code",
   "execution_count": 154,
   "id": "c1f84836",
   "metadata": {},
   "outputs": [
    {
     "data": {
      "image/png": "[encoded data removed]",
      "text/plain": [
       "<Figure size 640x480 with 2 Axes>"
      ]
     },
     "metadata": {},
     "output_type": "display_data"
    }
   ],
   "source": [
    "# Воспользуемся методом создания нескольких графиков в одном фрейме\n",
    "# Данные в переменные\n",
    "ad_channel_cost = df_cost.ad_channel\n",
    "price = df_cost.all_price\n",
    "ad_channel_income = df_income.ad_channel\n",
    "profit = df_income.all_profit\n",
    "\n",
    "# Создание объекта графика и осей\n",
    "fig, ax = plt.subplots(nrows = 2, ncols = 1)\n",
    "# Название всего фрейма\n",
    "fig.suptitle('Графики затрат и прибыли для каждого канала продаж')\n",
    "# Отодвигаем графики друг от друга\n",
    "fig.subplots_adjust(hspace = 0.8)\n",
    "\n",
    "# Создаем столбчатый график\n",
    "ax[0].barh(ad_channel_cost, price)\n",
    "# Название для графика\n",
    "ax[0].set_title('График затрат для каждого рекламного канала')\n",
    "# Подпись к оси Х\n",
    "ax[0].set_xlabel ('Каналы продаж')\n",
    "# Подпись к оси Y\n",
    "ax[0].set_xlabel ('USD')\n",
    "\n",
    "\n",
    "# Создаем 2-ой столбчатый график\n",
    "ax[1].barh(ad_channel_income, profit)\n",
    "# Название для графика\n",
    "ax[1].set_title('График прибыли для каждого рекламного канала')\n",
    "# Подпись к оси Х\n",
    "ax[1].set_xlabel ('Каналы продаж')\n",
    "# Подпись к оси Y\n",
    "ax[1].set_xlabel ('USD')\n",
    "\n",
    "\n",
    "# Отображение графика\n",
    "plt.show()"
   ]
  },
  {
   "cell_type": "code",
   "execution_count": null,
   "id": "cfd1563d",
   "metadata": {},
   "outputs": [],
   "source": [
    "# Так как вышеуказанные графики получились небольшего размера, сформируем их отдельно для более качественной визуализации"
   ]
  },
  {
   "cell_type": "code",
   "execution_count": 158,
   "id": "2655079b",
   "metadata": {},
   "outputs": [
    {
     "data": {
      "image/png": "[encoded data removed]",
      "text/plain": [
       "<Figure size 1500x500 with 1 Axes>"
      ]
     },
     "metadata": {},
     "output_type": "display_data"
    }
   ],
   "source": [
    "# Задаем размер графика\n",
    "plt.figure(figsize=(15,5))\n",
    "# Рисуем перевернутый столбчатый график\n",
    "plt.barh(ad_channel_income, profit)\n",
    "plt.title('График прибыли для каждого рекламного канала', fontsize=14)\n",
    "plt.xlabel('USD')\n",
    "plt.ylabel('Каналы продаж')\n",
    "for i, val in enumerate(profit):\n",
    "    plt.text(x = val + 50000, y = i, s = str(val), ha = 'center')\n",
    "plt.show()"
   ]
  },
  {
   "cell_type": "code",
   "execution_count": 192,
   "id": "a9aa3735",
   "metadata": {},
   "outputs": [
    {
     "data": {
      "image/png": "[encoded data removed]",
      "text/plain": [
       "<Figure size 1500x500 with 1 Axes>"
      ]
     },
     "metadata": {},
     "output_type": "display_data"
    }
   ],
   "source": [
    "# Создадим дополнительно круговую диаграмму\n",
    "# Задаем размер графика\n",
    "plt.figure(figsize=(15,5))\n",
    "# Рисуем круговую диаграмму\n",
    "plt.pie(x = profit, labels = ad_channel_income, autopct='%1.2f%%', textprops={'fontsize':14})\n",
    "# Задаем название\n",
    "plt.title('График прибыли для каждого рекламного канала', fontsize=14)\n",
    "plt.show()"
   ]
  },
  {
   "cell_type": "code",
   "execution_count": 160,
   "id": "314ef0d4",
   "metadata": {},
   "outputs": [
    {
     "data": {
      "image/png": "[encoded data removed]",
      "text/plain": [
       "<Figure size 1500x500 with 1 Axes>"
      ]
     },
     "metadata": {},
     "output_type": "display_data"
    }
   ],
   "source": [
    "# Задаем размер графика\n",
    "plt.figure(figsize=(15,5))\n",
    "# Рисуем перевернутый столбчатый график\n",
    "plt.barh(ad_channel_cost, price)\n",
    "plt.title('График затрат для каждого рекламного канала', fontsize=14)\n",
    "plt.xlabel('USD')\n",
    "plt.ylabel('Каналы продаж')\n",
    "for i, val in enumerate(price):\n",
    "    plt.text(x = val + 50000, y = i, s = str(val), ha = 'center')\n",
    "plt.show()"
   ]
  },
  {
   "cell_type": "code",
   "execution_count": 194,
   "id": "cc19824d",
   "metadata": {},
   "outputs": [
    {
     "data": {
      "image/png": "[encoded data removed]",
      "text/plain": [
       "<Figure size 1500x500 with 1 Axes>"
      ]
     },
     "metadata": {},
     "output_type": "display_data"
    }
   ],
   "source": [
    "# Создадим дополнительно круговую диаграмму\n",
    "# Задаем размер графика\n",
    "plt.figure(figsize=(15,5))\n",
    "# Рисуем круговую диаграмму\n",
    "plt.pie(x = price, labels = ad_channel_cost, autopct='%.0f%%', textprops={'fontsize':14})\n",
    "# Задаем название\n",
    "plt.title('График прибыли для каждого рекламного канала', fontsize=14)\n",
    "plt.show()"
   ]
  },
  {
   "cell_type": "code",
   "execution_count": null,
   "id": "6c05e561",
   "metadata": {},
   "outputs": [],
   "source": [
    "# Составим предварительные выводы из указанных графиков:\n",
    "# Самый эффективный канал с показателем прибыли - search\n",
    "# Самый незначительный канал с показателем прибыли - video\n",
    "# Самый менее затратный рекламный канал - organic_traffic\n",
    "# Самый затратный канал - search\n",
    "# Самый неэффективный канал по соотношению доход/расход - video (работает в значительный минус, в связи с чем необходимо рассматривать вопрос о его целесообразности)"
   ]
  },
  {
   "cell_type": "code",
   "execution_count": null,
   "id": "c91d7efd",
   "metadata": {},
   "outputs": [],
   "source": [
    "# Дополнительое визуализируем данные в едином графике"
   ]
  },
  {
   "cell_type": "code",
   "execution_count": 181,
   "id": "9d66ea19",
   "metadata": {},
   "outputs": [
    {
     "data": {
      "image/png": "[encoded data removed]",
      "text/plain": [
       "<Figure size 1200x600 with 1 Axes>"
      ]
     },
     "metadata": {},
     "output_type": "display_data"
    }
   ],
   "source": [
    "# Данные в переменные\n",
    "ad_channel_cost = df_cost.ad_channel\n",
    "price = df_cost.all_price\n",
    "profit = df_income.all_profit\n",
    "\n",
    "# Настройка параметров графика\n",
    "bar_width = 0.2\n",
    "index = np.arange(len(ad_channel))\n",
    "\n",
    "# Создание объекта графика и осей\n",
    "fig, ax = plt.subplots(figsize=(12,6))\n",
    "\n",
    "# Нарисовать столбцы\n",
    "ax.bar(index, price, bar_width,\n",
    "      color = 'red', alpha = 0.6,\n",
    "      label = 'price')\n",
    "ax.bar(index + bar_width, profit, bar_width,\n",
    "       color = 'green', alpha = 0.6,\n",
    "       label = 'profit')\n",
    "\n",
    "# Настройка осей и заголовка\n",
    "ax.set_xlabel('Каналы продаж')\n",
    "ax.set_ylabel('USD')\n",
    "ax.set_title('График затрат и прибыли для каждого рекламного канала')\n",
    "\n",
    "# Указываем место для подписей\n",
    "ax.set_xticks(index + bar_width)\n",
    "\n",
    "# Указываем название подписей\n",
    "ax.set_xticklabels(ad_channel)\n",
    "\n",
    "# Поворачиваем подпись на осях\n",
    "ax.tick_params(axis = 'x', labelrotation = 30)\n",
    "\n",
    "# Легенда\n",
    "ax.legend(loc = (1.02, 0.85))\n",
    "\n",
    "# Отображение графика\n",
    "plt.show()"
   ]
  },
  {
   "cell_type": "code",
   "execution_count": 203,
   "id": "a9da5d7b",
   "metadata": {},
   "outputs": [
    {
     "data": {
      "image/png": "[encoded data removed]",
      "text/plain": [
       "<Figure size 1200x600 with 1 Axes>"
      ]
     },
     "metadata": {},
     "output_type": "display_data"
    }
   ],
   "source": [
    "# Построим дополнительно стекнутый график\n",
    "# Данные в переменные\n",
    "ad_channel_cost = df_cost.ad_channel\n",
    "price = df_cost.all_price\n",
    "profit = df_income.all_profit\n",
    "\n",
    "# Создание объекта графика и осей\n",
    "fig, ax = plt.subplots(figsize=(12,6))\n",
    "\n",
    "# Нарисовать столбцы\n",
    "ax.bar(ad_channel_cost, price, color = 'yellow', alpha = 0.6,\n",
    "      label = 'price')\n",
    "ax.bar(ad_channel_cost, profit, bottom = price, color = 'blue', alpha = 0.6,\n",
    "      label = 'profit')\n",
    "\n",
    "# Настраиваем легенду и заголовок\n",
    "ax.legend(loc = (1.02, 0.85))\n",
    "ax.set_title('График затрат и прибыли для каждого рекламного канала')\n",
    "\n",
    "# Поворачиваем подпись на осях\n",
    "ax.tick_params(axis = 'x', labelrotation = 30)\n",
    "\n",
    "# Отображение графика\n",
    "plt.show()"
   ]
  },
  {
   "cell_type": "markdown",
   "id": "8ca84933",
   "metadata": {},
   "source": [
    "### 4. График распределения операционной системы пользователя для каждого канала коммуникации"
   ]
  },
  {
   "cell_type": "code",
   "execution_count": 161,
   "id": "0db0febe",
   "metadata": {},
   "outputs": [
    {
     "data": {
      "text/html": [
       "<div>\n",
       "<style scoped>\n",
       "    .dataframe tbody tr th:only-of-type {\n",
       "        vertical-align: middle;\n",
       "    }\n",
       "\n",
       "    .dataframe tbody tr th {\n",
       "        vertical-align: top;\n",
       "    }\n",
       "\n",
       "    .dataframe thead th {\n",
       "        text-align: right;\n",
       "    }\n",
       "</style>\n",
       "<table border=\"1\" class=\"dataframe\">\n",
       "  <thead>\n",
       "    <tr style=\"text-align: right;\">\n",
       "      <th></th>\n",
       "      <th>ad_channel</th>\n",
       "      <th>user_id</th>\n",
       "      <th>funnel_stage</th>\n",
       "      <th>timestamp</th>\n",
       "      <th>profit</th>\n",
       "      <th>os</th>\n",
       "      <th>price</th>\n",
       "      <th>count</th>\n",
       "    </tr>\n",
       "  </thead>\n",
       "  <tbody>\n",
       "    <tr>\n",
       "      <th>0</th>\n",
       "      <td>video</td>\n",
       "      <td>512217</td>\n",
       "      <td>interest</td>\n",
       "      <td>150000</td>\n",
       "      <td>NaN</td>\n",
       "      <td>iOS</td>\n",
       "      <td>0.75</td>\n",
       "      <td>1</td>\n",
       "    </tr>\n",
       "    <tr>\n",
       "      <th>1</th>\n",
       "      <td>video</td>\n",
       "      <td>833649</td>\n",
       "      <td>interest</td>\n",
       "      <td>150000</td>\n",
       "      <td>NaN</td>\n",
       "      <td>Android</td>\n",
       "      <td>0.75</td>\n",
       "      <td>1</td>\n",
       "    </tr>\n",
       "    <tr>\n",
       "      <th>2</th>\n",
       "      <td>video</td>\n",
       "      <td>327813</td>\n",
       "      <td>interest</td>\n",
       "      <td>150002</td>\n",
       "      <td>NaN</td>\n",
       "      <td>Android</td>\n",
       "      <td>0.75</td>\n",
       "      <td>1</td>\n",
       "    </tr>\n",
       "    <tr>\n",
       "      <th>3</th>\n",
       "      <td>video</td>\n",
       "      <td>241345</td>\n",
       "      <td>interest</td>\n",
       "      <td>150004</td>\n",
       "      <td>NaN</td>\n",
       "      <td>iOS</td>\n",
       "      <td>0.75</td>\n",
       "      <td>1</td>\n",
       "    </tr>\n",
       "    <tr>\n",
       "      <th>4</th>\n",
       "      <td>video</td>\n",
       "      <td>212554</td>\n",
       "      <td>interest</td>\n",
       "      <td>150004</td>\n",
       "      <td>NaN</td>\n",
       "      <td>Android</td>\n",
       "      <td>0.75</td>\n",
       "      <td>1</td>\n",
       "    </tr>\n",
       "  </tbody>\n",
       "</table>\n",
       "</div>"
      ],
      "text/plain": [
       "  ad_channel  user_id funnel_stage  timestamp  profit       os  price  count\n",
       "0      video   512217     interest     150000     NaN      iOS   0.75      1\n",
       "1      video   833649     interest     150000     NaN  Android   0.75      1\n",
       "2      video   327813     interest     150002     NaN  Android   0.75      1\n",
       "3      video   241345     interest     150004     NaN      iOS   0.75      1\n",
       "4      video   212554     interest     150004     NaN  Android   0.75      1"
      ]
     },
     "execution_count": 161,
     "metadata": {},
     "output_type": "execute_result"
    }
   ],
   "source": [
    "# считываем данные в новый датафрейм\n",
    "df3 = pd.read_csv('8.6_homework.csv')\n",
    "df3.head()"
   ]
  },
  {
   "cell_type": "code",
   "execution_count": 162,
   "id": "5e615da2",
   "metadata": {},
   "outputs": [
    {
     "data": {
      "text/html": [
       "<div>\n",
       "<style scoped>\n",
       "    .dataframe tbody tr th:only-of-type {\n",
       "        vertical-align: middle;\n",
       "    }\n",
       "\n",
       "    .dataframe tbody tr th {\n",
       "        vertical-align: top;\n",
       "    }\n",
       "\n",
       "    .dataframe thead th {\n",
       "        text-align: right;\n",
       "    }\n",
       "</style>\n",
       "<table border=\"1\" class=\"dataframe\">\n",
       "  <thead>\n",
       "    <tr style=\"text-align: right;\">\n",
       "      <th></th>\n",
       "      <th>ad_channel</th>\n",
       "      <th>user_id</th>\n",
       "      <th>os</th>\n",
       "    </tr>\n",
       "  </thead>\n",
       "  <tbody>\n",
       "    <tr>\n",
       "      <th>0</th>\n",
       "      <td>video</td>\n",
       "      <td>512217</td>\n",
       "      <td>iOS</td>\n",
       "    </tr>\n",
       "    <tr>\n",
       "      <th>1</th>\n",
       "      <td>video</td>\n",
       "      <td>833649</td>\n",
       "      <td>Android</td>\n",
       "    </tr>\n",
       "    <tr>\n",
       "      <th>2</th>\n",
       "      <td>video</td>\n",
       "      <td>327813</td>\n",
       "      <td>Android</td>\n",
       "    </tr>\n",
       "    <tr>\n",
       "      <th>3</th>\n",
       "      <td>video</td>\n",
       "      <td>241345</td>\n",
       "      <td>iOS</td>\n",
       "    </tr>\n",
       "    <tr>\n",
       "      <th>4</th>\n",
       "      <td>video</td>\n",
       "      <td>212554</td>\n",
       "      <td>Android</td>\n",
       "    </tr>\n",
       "  </tbody>\n",
       "</table>\n",
       "</div>"
      ],
      "text/plain": [
       "  ad_channel  user_id       os\n",
       "0      video   512217      iOS\n",
       "1      video   833649  Android\n",
       "2      video   327813  Android\n",
       "3      video   241345      iOS\n",
       "4      video   212554  Android"
      ]
     },
     "execution_count": 162,
     "metadata": {},
     "output_type": "execute_result"
    }
   ],
   "source": [
    "# Оставляем в таблице только нужные параметры\n",
    "df3.drop(['funnel_stage','timestamp', 'profit', 'price','count'], axis= 1 , inplace= True)\n",
    "df3.head()"
   ]
  },
  {
   "cell_type": "code",
   "execution_count": 169,
   "id": "1d5fd7ef",
   "metadata": {},
   "outputs": [
    {
     "data": {
      "text/html": [
       "<div>\n",
       "<style scoped>\n",
       "    .dataframe tbody tr th:only-of-type {\n",
       "        vertical-align: middle;\n",
       "    }\n",
       "\n",
       "    .dataframe tbody tr th {\n",
       "        vertical-align: top;\n",
       "    }\n",
       "\n",
       "    .dataframe thead th {\n",
       "        text-align: right;\n",
       "    }\n",
       "</style>\n",
       "<table border=\"1\" class=\"dataframe\">\n",
       "  <thead>\n",
       "    <tr style=\"text-align: right;\">\n",
       "      <th></th>\n",
       "      <th>ad_channel</th>\n",
       "      <th>os</th>\n",
       "      <th>user_id_count</th>\n",
       "    </tr>\n",
       "  </thead>\n",
       "  <tbody>\n",
       "    <tr>\n",
       "      <th>0</th>\n",
       "      <td>banner</td>\n",
       "      <td>Android</td>\n",
       "      <td>103042</td>\n",
       "    </tr>\n",
       "    <tr>\n",
       "      <th>1</th>\n",
       "      <td>banner</td>\n",
       "      <td>iOS</td>\n",
       "      <td>44206</td>\n",
       "    </tr>\n",
       "    <tr>\n",
       "      <th>2</th>\n",
       "      <td>native</td>\n",
       "      <td>Android</td>\n",
       "      <td>9877</td>\n",
       "    </tr>\n",
       "    <tr>\n",
       "      <th>3</th>\n",
       "      <td>native</td>\n",
       "      <td>iOS</td>\n",
       "      <td>22860</td>\n",
       "    </tr>\n",
       "    <tr>\n",
       "      <th>4</th>\n",
       "      <td>organic_traffic</td>\n",
       "      <td>Android</td>\n",
       "      <td>85442</td>\n",
       "    </tr>\n",
       "    <tr>\n",
       "      <th>5</th>\n",
       "      <td>organic_traffic</td>\n",
       "      <td>iOS</td>\n",
       "      <td>56275</td>\n",
       "    </tr>\n",
       "    <tr>\n",
       "      <th>6</th>\n",
       "      <td>partner_network</td>\n",
       "      <td>Android</td>\n",
       "      <td>48732</td>\n",
       "    </tr>\n",
       "    <tr>\n",
       "      <th>7</th>\n",
       "      <td>partner_network</td>\n",
       "      <td>iOS</td>\n",
       "      <td>48446</td>\n",
       "    </tr>\n",
       "    <tr>\n",
       "      <th>8</th>\n",
       "      <td>rich</td>\n",
       "      <td>Android</td>\n",
       "      <td>2981</td>\n",
       "    </tr>\n",
       "    <tr>\n",
       "      <th>9</th>\n",
       "      <td>rich</td>\n",
       "      <td>iOS</td>\n",
       "      <td>11753</td>\n",
       "    </tr>\n",
       "    <tr>\n",
       "      <th>10</th>\n",
       "      <td>search</td>\n",
       "      <td>Android</td>\n",
       "      <td>156897</td>\n",
       "    </tr>\n",
       "    <tr>\n",
       "      <th>11</th>\n",
       "      <td>search</td>\n",
       "      <td>iOS</td>\n",
       "      <td>235640</td>\n",
       "    </tr>\n",
       "    <tr>\n",
       "      <th>12</th>\n",
       "      <td>video</td>\n",
       "      <td>Android</td>\n",
       "      <td>111380</td>\n",
       "    </tr>\n",
       "    <tr>\n",
       "      <th>13</th>\n",
       "      <td>video</td>\n",
       "      <td>iOS</td>\n",
       "      <td>48068</td>\n",
       "    </tr>\n",
       "  </tbody>\n",
       "</table>\n",
       "</div>"
      ],
      "text/plain": [
       "         ad_channel       os  user_id_count\n",
       "0            banner  Android         103042\n",
       "1            banner      iOS          44206\n",
       "2            native  Android           9877\n",
       "3            native      iOS          22860\n",
       "4   organic_traffic  Android          85442\n",
       "5   organic_traffic      iOS          56275\n",
       "6   partner_network  Android          48732\n",
       "7   partner_network      iOS          48446\n",
       "8              rich  Android           2981\n",
       "9              rich      iOS          11753\n",
       "10           search  Android         156897\n",
       "11           search      iOS         235640\n",
       "12            video  Android         111380\n",
       "13            video      iOS          48068"
      ]
     },
     "execution_count": 169,
     "metadata": {},
     "output_type": "execute_result"
    }
   ],
   "source": [
    "# Групперуем столбец 'ad_channel' и 'os', высчитываем кол-во пользователей по значению 'user_id'\n",
    "df_os = df3.groupby(['ad_channel', 'os'], as_index = False).agg(user_id_count = ('user_id', 'count'))\n",
    "df_os.head(20)"
   ]
  },
  {
   "cell_type": "code",
   "execution_count": 176,
   "id": "8723cf03",
   "metadata": {},
   "outputs": [
    {
     "data": {
      "image/png": "[encoded data removed]",
      "text/plain": [
       "<Figure size 1200x600 with 1 Axes>"
      ]
     },
     "metadata": {},
     "output_type": "display_data"
    }
   ],
   "source": [
    "# Построем гистограмму распределения операционной системы пользователя для каждого канала коммуникации\n",
    "# Данные в переменные\n",
    "ad_channel = df_os.ad_channel\n",
    "Android = df_os.Android\n",
    "iOS = df_os.iOS\n",
    "\n",
    "# Настройка параметров графика\n",
    "bar_width = 0.2\n",
    "index = np.arange(len(ad_channel))\n",
    "\n",
    "# Создание объекта графика и осей\n",
    "fig, ax = plt.subplots(figsize=(12,6))\n",
    "\n",
    "# Нарисовать столбцы\n",
    "ax.bar(index, Android, bar_width,\n",
    "      color = 'red', alpha = 0.6,\n",
    "      label = 'Android')\n",
    "ax.bar(index + bar_width, iOS, bar_width,\n",
    "       color = 'green', alpha = 0.6,\n",
    "       label = 'iOS')\n",
    "\n",
    "# Настройка осей и заголовка\n",
    "ax.set_xlabel('Каналы продаж')\n",
    "ax.set_ylabel('Кол-во клиентов')\n",
    "ax.set_title('Распределения операционной системы пользователя для каждого канала коммуникации')\n",
    "\n",
    "# Указываем место для подписей\n",
    "ax.set_xticks(index + bar_width)\n",
    "\n",
    "# Указываем название подписей\n",
    "ax.set_xticklabels(ad_channel)\n",
    "\n",
    "# Поворачиваем подпись на осях\n",
    "ax.tick_params(axis = 'x', labelrotation = 30)\n",
    "\n",
    "# Легенда\n",
    "ax.legend(loc = (1.02, 0.85))\n",
    "\n",
    "# Отображение графика\n",
    "plt.show()"
   ]
  },
  {
   "cell_type": "code",
   "execution_count": 212,
   "id": "4a680c95",
   "metadata": {},
   "outputs": [
    {
     "data": {
      "application/vnd.plotly.v1+json": {
       "config": {
        "plotlyServerURL": "https://plot.ly"
       },
       "data": [
        {
         "marker": {
          "color": "red"
         },
         "mode": "markers",
         "name": "Android",
         "type": "scatter",
         "x": [
          "banner",
          "native",
          "organic_traffic",
          "partner_network",
          "rich",
          "search",
          "video"
         ],
         "y": [
          103042,
          9877,
          85442,
          48732,
          2981,
          156897,
          111380
         ]
        },
        {
         "marker": {
          "color": "green"
         },
         "mode": "markers",
         "name": "iOS",
         "type": "scatter",
         "x": [
          "banner",
          "native",
          "organic_traffic",
          "partner_network",
          "rich",
          "search",
          "video"
         ],
         "y": [
          44206,
          22860,
          56275,
          48446,
          11753,
          235640,
          48068
         ]
        }
       ],
       "layout": {
        "legend": {
         "title": {
          "text": "Legend"
         },
         "x": 1.05,
         "y": 1
        },
        "template": {
         "data": {
          "bar": [
           {
            "error_x": {
             "color": "#2a3f5f"
            },
            "error_y": {
             "color": "#2a3f5f"
            },
            "marker": {
             "line": {
              "color": "#E5ECF6",
              "width": 0.5
             },
             "pattern": {
              "fillmode": "overlay",
              "size": 10,
              "solidity": 0.2
             }
            },
            "type": "bar"
           }
          ],
          "barpolar": [
           {
            "marker": {
             "line": {
              "color": "#E5ECF6",
              "width": 0.5
             },
             "pattern": {
              "fillmode": "overlay",
              "size": 10,
              "solidity": 0.2
             }
            },
            "type": "barpolar"
           }
          ],
          "carpet": [
           {
            "aaxis": {
             "endlinecolor": "#2a3f5f",
             "gridcolor": "white",
             "linecolor": "white",
             "minorgridcolor": "white",
             "startlinecolor": "#2a3f5f"
            },
            "baxis": {
             "endlinecolor": "#2a3f5f",
             "gridcolor": "white",
             "linecolor": "white",
             "minorgridcolor": "white",
             "startlinecolor": "#2a3f5f"
            },
            "type": "carpet"
           }
          ],
          "choropleth": [
           {
            "colorbar": {
             "outlinewidth": 0,
             "ticks": ""
            },
            "type": "choropleth"
           }
          ],
          "contour": [
           {
            "colorbar": {
             "outlinewidth": 0,
             "ticks": ""
            },
            "colorscale": [
             [
              0,
              "#0d0887"
             ],
             [
              0.1111111111111111,
              "#46039f"
             ],
             [
              0.2222222222222222,
              "#7201a8"
             ],
             [
              0.3333333333333333,
              "#9c179e"
             ],
             [
              0.4444444444444444,
              "#bd3786"
             ],
             [
              0.5555555555555556,
              "#d8576b"
             ],
             [
              0.6666666666666666,
              "#ed7953"
             ],
             [
              0.7777777777777778,
              "#fb9f3a"
             ],
             [
              0.8888888888888888,
              "#fdca26"
             ],
             [
              1,
              "#f0f921"
             ]
            ],
            "type": "contour"
           }
          ],
          "contourcarpet": [
           {
            "colorbar": {
             "outlinewidth": 0,
             "ticks": ""
            },
            "type": "contourcarpet"
           }
          ],
          "heatmap": [
           {
            "colorbar": {
             "outlinewidth": 0,
             "ticks": ""
            },
            "colorscale": [
             [
              0,
              "#0d0887"
             ],
             [
              0.1111111111111111,
              "#46039f"
             ],
             [
              0.2222222222222222,
              "#7201a8"
             ],
             [
              0.3333333333333333,
              "#9c179e"
             ],
             [
              0.4444444444444444,
              "#bd3786"
             ],
             [
              0.5555555555555556,
              "#d8576b"
             ],
             [
              0.6666666666666666,
              "#ed7953"
             ],
             [
              0.7777777777777778,
              "#fb9f3a"
             ],
             [
              0.8888888888888888,
              "#fdca26"
             ],
             [
              1,
              "#f0f921"
             ]
            ],
            "type": "heatmap"
           }
          ],
          "heatmapgl": [
           {
            "colorbar": {
             "outlinewidth": 0,
             "ticks": ""
            },
            "colorscale": [
             [
              0,
              "#0d0887"
             ],
             [
              0.1111111111111111,
              "#46039f"
             ],
             [
              0.2222222222222222,
              "#7201a8"
             ],
             [
              0.3333333333333333,
              "#9c179e"
             ],
             [
              0.4444444444444444,
              "#bd3786"
             ],
             [
              0.5555555555555556,
              "#d8576b"
             ],
             [
              0.6666666666666666,
              "#ed7953"
             ],
             [
              0.7777777777777778,
              "#fb9f3a"
             ],
             [
              0.8888888888888888,
              "#fdca26"
             ],
             [
              1,
              "#f0f921"
             ]
            ],
            "type": "heatmapgl"
           }
          ],
          "histogram": [
           {
            "marker": {
             "pattern": {
              "fillmode": "overlay",
              "size": 10,
              "solidity": 0.2
             }
            },
            "type": "histogram"
           }
          ],
          "histogram2d": [
           {
            "colorbar": {
             "outlinewidth": 0,
             "ticks": ""
            },
            "colorscale": [
             [
              0,
              "#0d0887"
             ],
             [
              0.1111111111111111,
              "#46039f"
             ],
             [
              0.2222222222222222,
              "#7201a8"
             ],
             [
              0.3333333333333333,
              "#9c179e"
             ],
             [
              0.4444444444444444,
              "#bd3786"
             ],
             [
              0.5555555555555556,
              "#d8576b"
             ],
             [
              0.6666666666666666,
              "#ed7953"
             ],
             [
              0.7777777777777778,
              "#fb9f3a"
             ],
             [
              0.8888888888888888,
              "#fdca26"
             ],
             [
              1,
              "#f0f921"
             ]
            ],
            "type": "histogram2d"
           }
          ],
          "histogram2dcontour": [
           {
            "colorbar": {
             "outlinewidth": 0,
             "ticks": ""
            },
            "colorscale": [
             [
              0,
              "#0d0887"
             ],
             [
              0.1111111111111111,
              "#46039f"
             ],
             [
              0.2222222222222222,
              "#7201a8"
             ],
             [
              0.3333333333333333,
              "#9c179e"
             ],
             [
              0.4444444444444444,
              "#bd3786"
             ],
             [
              0.5555555555555556,
              "#d8576b"
             ],
             [
              0.6666666666666666,
              "#ed7953"
             ],
             [
              0.7777777777777778,
              "#fb9f3a"
             ],
             [
              0.8888888888888888,
              "#fdca26"
             ],
             [
              1,
              "#f0f921"
             ]
            ],
            "type": "histogram2dcontour"
           }
          ],
          "mesh3d": [
           {
            "colorbar": {
             "outlinewidth": 0,
             "ticks": ""
            },
            "type": "mesh3d"
           }
          ],
          "parcoords": [
           {
            "line": {
             "colorbar": {
              "outlinewidth": 0,
              "ticks": ""
             }
            },
            "type": "parcoords"
           }
          ],
          "pie": [
           {
            "automargin": true,
            "type": "pie"
           }
          ],
          "scatter": [
           {
            "fillpattern": {
             "fillmode": "overlay",
             "size": 10,
             "solidity": 0.2
            },
            "type": "scatter"
           }
          ],
          "scatter3d": [
           {
            "line": {
             "colorbar": {
              "outlinewidth": 0,
              "ticks": ""
             }
            },
            "marker": {
             "colorbar": {
              "outlinewidth": 0,
              "ticks": ""
             }
            },
            "type": "scatter3d"
           }
          ],
          "scattercarpet": [
           {
            "marker": {
             "colorbar": {
              "outlinewidth": 0,
              "ticks": ""
             }
            },
            "type": "scattercarpet"
           }
          ],
          "scattergeo": [
           {
            "marker": {
             "colorbar": {
              "outlinewidth": 0,
              "ticks": ""
             }
            },
            "type": "scattergeo"
           }
          ],
          "scattergl": [
           {
            "marker": {
             "colorbar": {
              "outlinewidth": 0,
              "ticks": ""
             }
            },
            "type": "scattergl"
           }
          ],
          "scattermapbox": [
           {
            "marker": {
             "colorbar": {
              "outlinewidth": 0,
              "ticks": ""
             }
            },
            "type": "scattermapbox"
           }
          ],
          "scatterpolar": [
           {
            "marker": {
             "colorbar": {
              "outlinewidth": 0,
              "ticks": ""
             }
            },
            "type": "scatterpolar"
           }
          ],
          "scatterpolargl": [
           {
            "marker": {
             "colorbar": {
              "outlinewidth": 0,
              "ticks": ""
             }
            },
            "type": "scatterpolargl"
           }
          ],
          "scatterternary": [
           {
            "marker": {
             "colorbar": {
              "outlinewidth": 0,
              "ticks": ""
             }
            },
            "type": "scatterternary"
           }
          ],
          "surface": [
           {
            "colorbar": {
             "outlinewidth": 0,
             "ticks": ""
            },
            "colorscale": [
             [
              0,
              "#0d0887"
             ],
             [
              0.1111111111111111,
              "#46039f"
             ],
             [
              0.2222222222222222,
              "#7201a8"
             ],
             [
              0.3333333333333333,
              "#9c179e"
             ],
             [
              0.4444444444444444,
              "#bd3786"
             ],
             [
              0.5555555555555556,
              "#d8576b"
             ],
             [
              0.6666666666666666,
              "#ed7953"
             ],
             [
              0.7777777777777778,
              "#fb9f3a"
             ],
             [
              0.8888888888888888,
              "#fdca26"
             ],
             [
              1,
              "#f0f921"
             ]
            ],
            "type": "surface"
           }
          ],
          "table": [
           {
            "cells": {
             "fill": {
              "color": "#EBF0F8"
             },
             "line": {
              "color": "white"
             }
            },
            "header": {
             "fill": {
              "color": "#C8D4E3"
             },
             "line": {
              "color": "white"
             }
            },
            "type": "table"
           }
          ]
         },
         "layout": {
          "annotationdefaults": {
           "arrowcolor": "#2a3f5f",
           "arrowhead": 0,
           "arrowwidth": 1
          },
          "autotypenumbers": "strict",
          "coloraxis": {
           "colorbar": {
            "outlinewidth": 0,
            "ticks": ""
           }
          },
          "colorscale": {
           "diverging": [
            [
             0,
             "#8e0152"
            ],
            [
             0.1,
             "#c51b7d"
            ],
            [
             0.2,
             "#de77ae"
            ],
            [
             0.3,
             "#f1b6da"
            ],
            [
             0.4,
             "#fde0ef"
            ],
            [
             0.5,
             "#f7f7f7"
            ],
            [
             0.6,
             "#e6f5d0"
            ],
            [
             0.7,
             "#b8e186"
            ],
            [
             0.8,
             "#7fbc41"
            ],
            [
             0.9,
             "#4d9221"
            ],
            [
             1,
             "#276419"
            ]
           ],
           "sequential": [
            [
             0,
             "#0d0887"
            ],
            [
             0.1111111111111111,
             "#46039f"
            ],
            [
             0.2222222222222222,
             "#7201a8"
            ],
            [
             0.3333333333333333,
             "#9c179e"
            ],
            [
             0.4444444444444444,
             "#bd3786"
            ],
            [
             0.5555555555555556,
             "#d8576b"
            ],
            [
             0.6666666666666666,
             "#ed7953"
            ],
            [
             0.7777777777777778,
             "#fb9f3a"
            ],
            [
             0.8888888888888888,
             "#fdca26"
            ],
            [
             1,
             "#f0f921"
            ]
           ],
           "sequentialminus": [
            [
             0,
             "#0d0887"
            ],
            [
             0.1111111111111111,
             "#46039f"
            ],
            [
             0.2222222222222222,
             "#7201a8"
            ],
            [
             0.3333333333333333,
             "#9c179e"
            ],
            [
             0.4444444444444444,
             "#bd3786"
            ],
            [
             0.5555555555555556,
             "#d8576b"
            ],
            [
             0.6666666666666666,
             "#ed7953"
            ],
            [
             0.7777777777777778,
             "#fb9f3a"
            ],
            [
             0.8888888888888888,
             "#fdca26"
            ],
            [
             1,
             "#f0f921"
            ]
           ]
          },
          "colorway": [
           "#636efa",
           "#EF553B",
           "#00cc96",
           "#ab63fa",
           "#FFA15A",
           "#19d3f3",
           "#FF6692",
           "#B6E880",
           "#FF97FF",
           "#FECB52"
          ],
          "font": {
           "color": "#2a3f5f"
          },
          "geo": {
           "bgcolor": "white",
           "lakecolor": "white",
           "landcolor": "#E5ECF6",
           "showlakes": true,
           "showland": true,
           "subunitcolor": "white"
          },
          "hoverlabel": {
           "align": "left"
          },
          "hovermode": "closest",
          "mapbox": {
           "style": "light"
          },
          "paper_bgcolor": "white",
          "plot_bgcolor": "#E5ECF6",
          "polar": {
           "angularaxis": {
            "gridcolor": "white",
            "linecolor": "white",
            "ticks": ""
           },
           "bgcolor": "#E5ECF6",
           "radialaxis": {
            "gridcolor": "white",
            "linecolor": "white",
            "ticks": ""
           }
          },
          "scene": {
           "xaxis": {
            "backgroundcolor": "#E5ECF6",
            "gridcolor": "white",
            "gridwidth": 2,
            "linecolor": "white",
            "showbackground": true,
            "ticks": "",
            "zerolinecolor": "white"
           },
           "yaxis": {
            "backgroundcolor": "#E5ECF6",
            "gridcolor": "white",
            "gridwidth": 2,
            "linecolor": "white",
            "showbackground": true,
            "ticks": "",
            "zerolinecolor": "white"
           },
           "zaxis": {
            "backgroundcolor": "#E5ECF6",
            "gridcolor": "white",
            "gridwidth": 2,
            "linecolor": "white",
            "showbackground": true,
            "ticks": "",
            "zerolinecolor": "white"
           }
          },
          "shapedefaults": {
           "line": {
            "color": "#2a3f5f"
           }
          },
          "ternary": {
           "aaxis": {
            "gridcolor": "white",
            "linecolor": "white",
            "ticks": ""
           },
           "baxis": {
            "gridcolor": "white",
            "linecolor": "white",
            "ticks": ""
           },
           "bgcolor": "#E5ECF6",
           "caxis": {
            "gridcolor": "white",
            "linecolor": "white",
            "ticks": ""
           }
          },
          "title": {
           "x": 0.05
          },
          "xaxis": {
           "automargin": true,
           "gridcolor": "white",
           "linecolor": "white",
           "ticks": "",
           "title": {
            "standoff": 15
           },
           "zerolinecolor": "white",
           "zerolinewidth": 2
          },
          "yaxis": {
           "automargin": true,
           "gridcolor": "white",
           "linecolor": "white",
           "ticks": "",
           "title": {
            "standoff": 15
           },
           "zerolinecolor": "white",
           "zerolinewidth": 2
          }
         }
        },
        "title": {
         "font": {
          "size": 20
         }
        },
        "xaxis": {
         "title": {
          "text": "Каналы продаж"
         }
        },
        "yaxis": {
         "title": {
          "text": "Кол-во клиентов"
         }
        }
       }
      },
      "text/html": [
       "<div>                            <div id=\"f612162a-712e-446b-a94c-245b4673281a\" class=\"plotly-graph-div\" style=\"height:525px; width:100%;\"></div>            <script type=\"text/javascript\">                require([\"plotly\"], function(Plotly) {                    window.PLOTLYENV=window.PLOTLYENV || {};                                    if (document.getElementById(\"f612162a-712e-446b-a94c-245b4673281a\")) {                    Plotly.newPlot(                        \"f612162a-712e-446b-a94c-245b4673281a\",                        [{\"marker\":{\"color\":\"red\"},\"mode\":\"markers\",\"name\":\"Android\",\"x\":[\"banner\",\"native\",\"organic_traffic\",\"partner_network\",\"rich\",\"search\",\"video\"],\"y\":[103042,9877,85442,48732,2981,156897,111380],\"type\":\"scatter\"},{\"marker\":{\"color\":\"green\"},\"mode\":\"markers\",\"name\":\"iOS\",\"x\":[\"banner\",\"native\",\"organic_traffic\",\"partner_network\",\"rich\",\"search\",\"video\"],\"y\":[44206,22860,56275,48446,11753,235640,48068],\"type\":\"scatter\"}],                        {\"template\":{\"data\":{\"histogram2dcontour\":[{\"type\":\"histogram2dcontour\",\"colorbar\":{\"outlinewidth\":0,\"ticks\":\"\"},\"colorscale\":[[0.0,\"#0d0887\"],[0.1111111111111111,\"#46039f\"],[0.2222222222222222,\"#7201a8\"],[0.3333333333333333,\"#9c179e\"],[0.4444444444444444,\"#bd3786\"],[0.5555555555555556,\"#d8576b\"],[0.6666666666666666,\"#ed7953\"],[0.7777777777777778,\"#fb9f3a\"],[0.8888888888888888,\"#fdca26\"],[1.0,\"#f0f921\"]]}],\"choropleth\":[{\"type\":\"choropleth\",\"colorbar\":{\"outlinewidth\":0,\"ticks\":\"\"}}],\"histogram2d\":[{\"type\":\"histogram2d\",\"colorbar\":{\"outlinewidth\":0,\"ticks\":\"\"},\"colorscale\":[[0.0,\"#0d0887\"],[0.1111111111111111,\"#46039f\"],[0.2222222222222222,\"#7201a8\"],[0.3333333333333333,\"#9c179e\"],[0.4444444444444444,\"#bd3786\"],[0.5555555555555556,\"#d8576b\"],[0.6666666666666666,\"#ed7953\"],[0.7777777777777778,\"#fb9f3a\"],[0.8888888888888888,\"#fdca26\"],[1.0,\"#f0f921\"]]}],\"heatmap\":[{\"type\":\"heatmap\",\"colorbar\":{\"outlinewidth\":0,\"ticks\":\"\"},\"colorscale\":[[0.0,\"#0d0887\"],[0.1111111111111111,\"#46039f\"],[0.2222222222222222,\"#7201a8\"],[0.3333333333333333,\"#9c179e\"],[0.4444444444444444,\"#bd3786\"],[0.5555555555555556,\"#d8576b\"],[0.6666666666666666,\"#ed7953\"],[0.7777777777777778,\"#fb9f3a\"],[0.8888888888888888,\"#fdca26\"],[1.0,\"#f0f921\"]]}],\"heatmapgl\":[{\"type\":\"heatmapgl\",\"colorbar\":{\"outlinewidth\":0,\"ticks\":\"\"},\"colorscale\":[[0.0,\"#0d0887\"],[0.1111111111111111,\"#46039f\"],[0.2222222222222222,\"#7201a8\"],[0.3333333333333333,\"#9c179e\"],[0.4444444444444444,\"#bd3786\"],[0.5555555555555556,\"#d8576b\"],[0.6666666666666666,\"#ed7953\"],[0.7777777777777778,\"#fb9f3a\"],[0.8888888888888888,\"#fdca26\"],[1.0,\"#f0f921\"]]}],\"contourcarpet\":[{\"type\":\"contourcarpet\",\"colorbar\":{\"outlinewidth\":0,\"ticks\":\"\"}}],\"contour\":[{\"type\":\"contour\",\"colorbar\":{\"outlinewidth\":0,\"ticks\":\"\"},\"colorscale\":[[0.0,\"#0d0887\"],[0.1111111111111111,\"#46039f\"],[0.2222222222222222,\"#7201a8\"],[0.3333333333333333,\"#9c179e\"],[0.4444444444444444,\"#bd3786\"],[0.5555555555555556,\"#d8576b\"],[0.6666666666666666,\"#ed7953\"],[0.7777777777777778,\"#fb9f3a\"],[0.8888888888888888,\"#fdca26\"],[1.0,\"#f0f921\"]]}],\"surface\":[{\"type\":\"surface\",\"colorbar\":{\"outlinewidth\":0,\"ticks\":\"\"},\"colorscale\":[[0.0,\"#0d0887\"],[0.1111111111111111,\"#46039f\"],[0.2222222222222222,\"#7201a8\"],[0.3333333333333333,\"#9c179e\"],[0.4444444444444444,\"#bd3786\"],[0.5555555555555556,\"#d8576b\"],[0.6666666666666666,\"#ed7953\"],[0.7777777777777778,\"#fb9f3a\"],[0.8888888888888888,\"#fdca26\"],[1.0,\"#f0f921\"]]}],\"mesh3d\":[{\"type\":\"mesh3d\",\"colorbar\":{\"outlinewidth\":0,\"ticks\":\"\"}}],\"scatter\":[{\"fillpattern\":{\"fillmode\":\"overlay\",\"size\":10,\"solidity\":0.2},\"type\":\"scatter\"}],\"parcoords\":[{\"type\":\"parcoords\",\"line\":{\"colorbar\":{\"outlinewidth\":0,\"ticks\":\"\"}}}],\"scatterpolargl\":[{\"type\":\"scatterpolargl\",\"marker\":{\"colorbar\":{\"outlinewidth\":0,\"ticks\":\"\"}}}],\"bar\":[{\"error_x\":{\"color\":\"#2a3f5f\"},\"error_y\":{\"color\":\"#2a3f5f\"},\"marker\":{\"line\":{\"color\":\"#E5ECF6\",\"width\":0.5},\"pattern\":{\"fillmode\":\"overlay\",\"size\":10,\"solidity\":0.2}},\"type\":\"bar\"}],\"scattergeo\":[{\"type\":\"scattergeo\",\"marker\":{\"colorbar\":{\"outlinewidth\":0,\"ticks\":\"\"}}}],\"scatterpolar\":[{\"type\":\"scatterpolar\",\"marker\":{\"colorbar\":{\"outlinewidth\":0,\"ticks\":\"\"}}}],\"histogram\":[{\"marker\":{\"pattern\":{\"fillmode\":\"overlay\",\"size\":10,\"solidity\":0.2}},\"type\":\"histogram\"}],\"scattergl\":[{\"type\":\"scattergl\",\"marker\":{\"colorbar\":{\"outlinewidth\":0,\"ticks\":\"\"}}}],\"scatter3d\":[{\"type\":\"scatter3d\",\"line\":{\"colorbar\":{\"outlinewidth\":0,\"ticks\":\"\"}},\"marker\":{\"colorbar\":{\"outlinewidth\":0,\"ticks\":\"\"}}}],\"scattermapbox\":[{\"type\":\"scattermapbox\",\"marker\":{\"colorbar\":{\"outlinewidth\":0,\"ticks\":\"\"}}}],\"scatterternary\":[{\"type\":\"scatterternary\",\"marker\":{\"colorbar\":{\"outlinewidth\":0,\"ticks\":\"\"}}}],\"scattercarpet\":[{\"type\":\"scattercarpet\",\"marker\":{\"colorbar\":{\"outlinewidth\":0,\"ticks\":\"\"}}}],\"carpet\":[{\"aaxis\":{\"endlinecolor\":\"#2a3f5f\",\"gridcolor\":\"white\",\"linecolor\":\"white\",\"minorgridcolor\":\"white\",\"startlinecolor\":\"#2a3f5f\"},\"baxis\":{\"endlinecolor\":\"#2a3f5f\",\"gridcolor\":\"white\",\"linecolor\":\"white\",\"minorgridcolor\":\"white\",\"startlinecolor\":\"#2a3f5f\"},\"type\":\"carpet\"}],\"table\":[{\"cells\":{\"fill\":{\"color\":\"#EBF0F8\"},\"line\":{\"color\":\"white\"}},\"header\":{\"fill\":{\"color\":\"#C8D4E3\"},\"line\":{\"color\":\"white\"}},\"type\":\"table\"}],\"barpolar\":[{\"marker\":{\"line\":{\"color\":\"#E5ECF6\",\"width\":0.5},\"pattern\":{\"fillmode\":\"overlay\",\"size\":10,\"solidity\":0.2}},\"type\":\"barpolar\"}],\"pie\":[{\"automargin\":true,\"type\":\"pie\"}]},\"layout\":{\"autotypenumbers\":\"strict\",\"colorway\":[\"#636efa\",\"#EF553B\",\"#00cc96\",\"#ab63fa\",\"#FFA15A\",\"#19d3f3\",\"#FF6692\",\"#B6E880\",\"#FF97FF\",\"#FECB52\"],\"font\":{\"color\":\"#2a3f5f\"},\"hovermode\":\"closest\",\"hoverlabel\":{\"align\":\"left\"},\"paper_bgcolor\":\"white\",\"plot_bgcolor\":\"#E5ECF6\",\"polar\":{\"bgcolor\":\"#E5ECF6\",\"angularaxis\":{\"gridcolor\":\"white\",\"linecolor\":\"white\",\"ticks\":\"\"},\"radialaxis\":{\"gridcolor\":\"white\",\"linecolor\":\"white\",\"ticks\":\"\"}},\"ternary\":{\"bgcolor\":\"#E5ECF6\",\"aaxis\":{\"gridcolor\":\"white\",\"linecolor\":\"white\",\"ticks\":\"\"},\"baxis\":{\"gridcolor\":\"white\",\"linecolor\":\"white\",\"ticks\":\"\"},\"caxis\":{\"gridcolor\":\"white\",\"linecolor\":\"white\",\"ticks\":\"\"}},\"coloraxis\":{\"colorbar\":{\"outlinewidth\":0,\"ticks\":\"\"}},\"colorscale\":{\"sequential\":[[0.0,\"#0d0887\"],[0.1111111111111111,\"#46039f\"],[0.2222222222222222,\"#7201a8\"],[0.3333333333333333,\"#9c179e\"],[0.4444444444444444,\"#bd3786\"],[0.5555555555555556,\"#d8576b\"],[0.6666666666666666,\"#ed7953\"],[0.7777777777777778,\"#fb9f3a\"],[0.8888888888888888,\"#fdca26\"],[1.0,\"#f0f921\"]],\"sequentialminus\":[[0.0,\"#0d0887\"],[0.1111111111111111,\"#46039f\"],[0.2222222222222222,\"#7201a8\"],[0.3333333333333333,\"#9c179e\"],[0.4444444444444444,\"#bd3786\"],[0.5555555555555556,\"#d8576b\"],[0.6666666666666666,\"#ed7953\"],[0.7777777777777778,\"#fb9f3a\"],[0.8888888888888888,\"#fdca26\"],[1.0,\"#f0f921\"]],\"diverging\":[[0,\"#8e0152\"],[0.1,\"#c51b7d\"],[0.2,\"#de77ae\"],[0.3,\"#f1b6da\"],[0.4,\"#fde0ef\"],[0.5,\"#f7f7f7\"],[0.6,\"#e6f5d0\"],[0.7,\"#b8e186\"],[0.8,\"#7fbc41\"],[0.9,\"#4d9221\"],[1,\"#276419\"]]},\"xaxis\":{\"gridcolor\":\"white\",\"linecolor\":\"white\",\"ticks\":\"\",\"title\":{\"standoff\":15},\"zerolinecolor\":\"white\",\"automargin\":true,\"zerolinewidth\":2},\"yaxis\":{\"gridcolor\":\"white\",\"linecolor\":\"white\",\"ticks\":\"\",\"title\":{\"standoff\":15},\"zerolinecolor\":\"white\",\"automargin\":true,\"zerolinewidth\":2},\"scene\":{\"xaxis\":{\"backgroundcolor\":\"#E5ECF6\",\"gridcolor\":\"white\",\"linecolor\":\"white\",\"showbackground\":true,\"ticks\":\"\",\"zerolinecolor\":\"white\",\"gridwidth\":2},\"yaxis\":{\"backgroundcolor\":\"#E5ECF6\",\"gridcolor\":\"white\",\"linecolor\":\"white\",\"showbackground\":true,\"ticks\":\"\",\"zerolinecolor\":\"white\",\"gridwidth\":2},\"zaxis\":{\"backgroundcolor\":\"#E5ECF6\",\"gridcolor\":\"white\",\"linecolor\":\"white\",\"showbackground\":true,\"ticks\":\"\",\"zerolinecolor\":\"white\",\"gridwidth\":2}},\"shapedefaults\":{\"line\":{\"color\":\"#2a3f5f\"}},\"annotationdefaults\":{\"arrowcolor\":\"#2a3f5f\",\"arrowhead\":0,\"arrowwidth\":1},\"geo\":{\"bgcolor\":\"white\",\"landcolor\":\"#E5ECF6\",\"subunitcolor\":\"white\",\"showland\":true,\"showlakes\":true,\"lakecolor\":\"white\"},\"title\":{\"x\":0.05},\"mapbox\":{\"style\":\"light\"}}},\"title\":{\"font\":{\"size\":20}},\"xaxis\":{\"title\":{\"text\":\"\\u041a\\u0430\\u043d\\u0430\\u043b\\u044b \\u043f\\u0440\\u043e\\u0434\\u0430\\u0436\"}},\"yaxis\":{\"title\":{\"text\":\"\\u041a\\u043e\\u043b-\\u0432\\u043e \\u043a\\u043b\\u0438\\u0435\\u043d\\u0442\\u043e\\u0432\"}},\"legend\":{\"title\":{\"text\":\"Legend\"},\"x\":1.05,\"y\":1}},                        {\"responsive\": true}                    ).then(function(){\n",
       "                            \n",
       "var gd = document.getElementById('f612162a-712e-446b-a94c-245b4673281a');\n",
       "var x = new MutationObserver(function (mutations, observer) {{\n",
       "        var display = window.getComputedStyle(gd).display;\n",
       "        if (!display || display === 'none') {{\n",
       "            console.log([gd, 'removed!']);\n",
       "            Plotly.purge(gd);\n",
       "            observer.disconnect();\n",
       "        }}\n",
       "}});\n",
       "\n",
       "// Listen for the removal of the full notebook cells\n",
       "var notebookContainer = gd.closest('#notebook-container');\n",
       "if (notebookContainer) {{\n",
       "    x.observe(notebookContainer, {childList: true});\n",
       "}}\n",
       "\n",
       "// Listen for the clearing of the current output cell\n",
       "var outputEl = gd.closest('.output');\n",
       "if (outputEl) {{\n",
       "    x.observe(outputEl, {childList: true});\n",
       "}}\n",
       "\n",
       "                        })                };                });            </script>        </div>"
      ]
     },
     "metadata": {},
     "output_type": "display_data"
    }
   ],
   "source": [
    "# Для дополнительной визуализации построим точечную диаграмму\n",
    "# Данные в переменные\n",
    "ad_channel = df_os.ad_channel\n",
    "Android = df_os.Android\n",
    "iOS = df_os.iOS\n",
    "\n",
    "# Создание трейсов\n",
    "trace1 = go.Scatter(x = ad_channel, y = Android, name = 'Android', mode = 'markers', marker = dict(color = 'red'))\n",
    "trace2 = go.Scatter(x = ad_channel, y = iOS, name = 'iOS', mode = 'markers', marker = dict(color = 'green'))\n",
    "\n",
    "# Добавление трейсов в график\n",
    "fig = go.Figure()\n",
    "fig.add_trace(trace1)\n",
    "fig.add_trace(trace2)\n",
    "\n",
    "# Настройка названий осей и заголовка графика \n",
    "fig.update_layout(title_font = dict(size = 20), xaxis_title = \"Каналы продаж\", yaxis_title = \"Кол-во клиентов\")\n",
    "\n",
    "# Настройка легенды\n",
    "fig.update_layout(legend=dict(title='Legend', x = 1.05, y = 1))\n",
    "\n",
    "# Отображение графика\n",
    "fig.show()"
   ]
  },
  {
   "cell_type": "markdown",
   "id": "ab236997",
   "metadata": {},
   "source": [
    "Выводы по проделанной практической работе:\n",
    "\n",
    "    1. Проведенный анализ по фродовой таблице подтвердил гипотезу о скомпрометированных данных, что видно по графику распределения этапов воронки. Все действия были совершены бот-программой на первом этапе воронки продаж - interest. Также можно объяснить наличием активности бот-программ именно на данных этапах воронки, так как именно на указанном этапе программа может имитировать действия человека.\n",
    "    \n",
    "    2. Согласно визуализированной воронке продаж по всем каналам коммуникации с клиентом, можно сделать вывод, что:\n",
    "    Самый большой канал с входящим потоком клиентов (этап воронки \"Интерес\") - search\n",
    "    Самый незначительный канал с входящим потоком клиентов (этап воронки \"Интерес\") - rich\n",
    "    Самый большой канал с рассмотрением к покупке (выбор планов подписки, хождение по продуктовым страницам) - search\n",
    "    Самый незначительный канал с рассмотрением к покупке (выбор планов подписки, хождение по продуктовым страницам) - rich\n",
    "    Самый большой канал с намерением купить (выбор плана, заявка на обратную связь, регистрация) - search\n",
    "    Самый незначительный канал с намерением купить (выбор плана, заявка на обратную связь, регистрация) - rich\n",
    "    Cамым эффективным каналом является search, а самым менеэффективным rich\n",
    "    \n",
    "    3. Согласно построенным графикам по затратам и прибыли для каждого рекламного канала, можно сделать вывод, что:\n",
    "    Самый эффективный канал с показателем прибыли - search\n",
    "    Самый незначительный канал с показателем прибыли - video\n",
    "    Самый менее затратный рекламный канал - organic_traffic\n",
    "    Самый затратный канал - search\n",
    "    Самый неэффективный канал по соотношению доходов и расходов - video (работает в значительный минус, в связи с чем необходимо рассматривать вопрос о его целесообразности).\n",
    "    \n",
    "    4. Согласно построенной гистограмме распределения операционной системы пользователя для каждого канала коммуникации, можно сделать вывод, что:\n",
    "    Самое большое кольчество пользователей на ОС iOS у самого доходного канала - search\n",
    "    Во всех остальных каналах практически везде доминирует ОС Android\n",
    "    \n",
    " Итоговые выводы:\n",
    " \n",
    "  - с неэффективными и убыточным каналами коммуникаций необходимо проводить работу по улучшению их показателей, либо если таковое не представляется возможным, то отказаться от них (что сократить косты в работе организации)."
   ]
  }
 ],
 "metadata": {
  "kernelspec": {
   "display_name": "Python 3 (ipykernel)",
   "language": "python",
   "name": "python3"
  },
  "language_info": {
   "codemirror_mode": {
    "name": "ipython",
    "version": 3
   },
   "file_extension": ".py",
   "mimetype": "text/x-python",
   "name": "python",
   "nbconvert_exporter": "python",
   "pygments_lexer": "ipython3",
   "version": "3.11.4"
  }
 },
 "nbformat": 4,
 "nbformat_minor": 5
}
